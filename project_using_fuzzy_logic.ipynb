{
  "nbformat": 4,
  "nbformat_minor": 0,
  "metadata": {
    "colab": {
      "provenance": []
    },
    "kernelspec": {
      "name": "python3",
      "display_name": "Python 3"
    },
    "language_info": {
      "name": "python"
    }
  },
  "cells": [
    {
      "cell_type": "code",
      "source": [
        "!pip install scikit-fuzzy"
      ],
      "metadata": {
        "colab": {
          "base_uri": "https://localhost:8080/"
        },
        "id": "FlahDb-mRkod",
        "outputId": "2b5c8bbc-c752-42c1-ac09-d6f65a2a51d4"
      },
      "execution_count": null,
      "outputs": [
        {
          "output_type": "stream",
          "name": "stdout",
          "text": [
            "Looking in indexes: https://pypi.org/simple, https://us-python.pkg.dev/colab-wheels/public/simple/\n",
            "Collecting scikit-fuzzy\n",
            "  Downloading scikit-fuzzy-0.4.2.tar.gz (993 kB)\n",
            "\u001b[2K     \u001b[90m━━━━━━━━━━━━━━━━━━━━━━━━━━━━━━━━━━━━━━\u001b[0m \u001b[32m994.0/994.0 kB\u001b[0m \u001b[31m16.0 MB/s\u001b[0m eta \u001b[36m0:00:00\u001b[0m\n",
            "\u001b[?25h  Preparing metadata (setup.py) ... \u001b[?25l\u001b[?25hdone\n",
            "Requirement already satisfied: numpy>=1.6.0 in /usr/local/lib/python3.10/dist-packages (from scikit-fuzzy) (1.22.4)\n",
            "Requirement already satisfied: scipy>=0.9.0 in /usr/local/lib/python3.10/dist-packages (from scikit-fuzzy) (1.10.1)\n",
            "Requirement already satisfied: networkx>=1.9.0 in /usr/local/lib/python3.10/dist-packages (from scikit-fuzzy) (3.1)\n",
            "Building wheels for collected packages: scikit-fuzzy\n",
            "  Building wheel for scikit-fuzzy (setup.py) ... \u001b[?25l\u001b[?25hdone\n",
            "  Created wheel for scikit-fuzzy: filename=scikit_fuzzy-0.4.2-py3-none-any.whl size=894073 sha256=0b18b7f857064f3ca5dabc331d3ba814365213dd44e09cf8818f88a2b1603516\n",
            "  Stored in directory: /root/.cache/pip/wheels/4f/86/1b/dfd97134a2c8313e519bcebd95d3fedc7be7944db022094bc8\n",
            "Successfully built scikit-fuzzy\n",
            "Installing collected packages: scikit-fuzzy\n",
            "Successfully installed scikit-fuzzy-0.4.2\n"
          ]
        }
      ]
    },
    {
      "cell_type": "code",
      "source": [
        "import numpy as np\n",
        "import skfuzzy as fuzz\n",
        "from skfuzzy import control as ctrl"
      ],
      "metadata": {
        "id": "qKRHWE-mRiXy"
      },
      "execution_count": null,
      "outputs": []
    },
    {
      "cell_type": "code",
      "source": [
        "dirt = ctrl.Antecedent(np.arange(0, 101, 1), 'dirt')\n",
        "softness = ctrl.Antecedent(np.arange(0, 101, 1), 'softness')\n",
        "clothes = ctrl.Antecedent(np.arange(0, 101, 1), 'clothes')"
      ],
      "metadata": {
        "id": "q5GIxT7lRtoc"
      },
      "execution_count": null,
      "outputs": []
    },
    {
      "cell_type": "code",
      "source": [
        "wash_time = ctrl.Consequent(np.arange(0, 61, 1), 'wash_time')\n",
        "soap_amount = ctrl.Consequent(np.arange(0, 11, 1), 'soap_amount')"
      ],
      "metadata": {
        "id": "67ETNYnCRwz1"
      },
      "execution_count": null,
      "outputs": []
    },
    {
      "cell_type": "code",
      "source": [
        "dirt['small'] = fuzz.trimf(dirt.universe, [0, 0, 20])\n",
        "dirt['medium'] = fuzz.trimf(dirt.universe, [20, 40, 60])\n",
        "dirt['large'] = fuzz.trimf(dirt.universe, [60, 80, 100])"
      ],
      "metadata": {
        "id": "ko6QErTzRzrM"
      },
      "execution_count": null,
      "outputs": []
    },
    {
      "cell_type": "code",
      "source": [
        "softness['soft'] = fuzz.trimf(softness.universe, [0, 0, 20])\n",
        "softness['ordinary'] = fuzz.trimf(softness.universe, [20, 40, 60])\n",
        "softness['stiff'] = fuzz.trimf(softness.universe, [60, 80, 100])"
      ],
      "metadata": {
        "id": "9rM7y0g0R2QE"
      },
      "execution_count": null,
      "outputs": []
    },
    {
      "cell_type": "code",
      "source": [
        "clothes['small'] = fuzz.trimf(clothes.universe, [0, 0, 50])\n",
        "clothes['medium'] = fuzz.trimf(clothes.universe, [0, 50, 100])\n",
        "clothes['large'] = fuzz.trimf(clothes.universe, [50, 100, 100])"
      ],
      "metadata": {
        "id": "K2nI7APxR4zv"
      },
      "execution_count": null,
      "outputs": []
    },
    {
      "cell_type": "code",
      "source": [
        "wash_time['very_short'] = fuzz.trimf(wash_time.universe, [0, 0, 10])\n",
        "wash_time['short'] = fuzz.trimf(wash_time.universe, [0, 10, 20])\n",
        "wash_time['standard'] = fuzz.trimf(wash_time.universe, [10, 20, 30])\n",
        "wash_time['long'] = fuzz.trimf(wash_time.universe, [20, 30, 40])\n",
        "wash_time['very_long'] = fuzz.trimf(wash_time.universe, [30, 40, 60])"
      ],
      "metadata": {
        "id": "Eo9ydAgDR7V1"
      },
      "execution_count": null,
      "outputs": []
    },
    {
      "cell_type": "code",
      "source": [
        "soap_amount['small'] = fuzz.trimf(soap_amount.universe, [0, 0, 5])\n",
        "soap_amount['medium'] = fuzz.trimf(soap_amount.universe, [0, 5, 10])\n",
        "soap_amount['large'] = fuzz.trimf(soap_amount.universe, [5, 10, 10])"
      ],
      "metadata": {
        "id": "PxgE-L0ZR9yV"
      },
      "execution_count": null,
      "outputs": []
    },
    {
      "cell_type": "code",
      "source": [
        "rule1 = ctrl.Rule(dirt['small'] & softness['soft'], wash_time['very_short'])\n",
        "rule2 = ctrl.Rule(dirt['medium'] & softness['ordinary'], wash_time['standard'])\n",
        "rule3 = ctrl.Rule((dirt['small'] & ~softness['soft']) | (dirt['medium'] & softness['soft']), wash_time['short'])\n",
        "rule4 = ctrl.Rule(dirt['medium'] & softness['stiff'], wash_time['long'])\n",
        "rule5 = ctrl.Rule(dirt['large'] & ~softness['soft'], wash_time['very_long'])\n",
        "rule6 = ctrl.Rule(dirt['large'] & softness['soft'], wash_time['standard'])\n",
        "rule7 = ctrl.Rule(dirt['small'] | softness['soft'], wash_time['standard'])\n",
        "rule8 = ctrl.Rule(~dirt['small'] & ~softness['soft'], wash_time['standard'])"
      ],
      "metadata": {
        "id": "XaDUAFSMSAeN"
      },
      "execution_count": null,
      "outputs": []
    },
    {
      "cell_type": "code",
      "source": [
        "rule9 = ctrl.Rule(clothes['large'] | (wash_time['standard'] & ~wash_time['very_short']), soap_amount['large'])\n",
        "rule10 = ctrl.Rule(clothes['small'] & wash_time['very_short'], soap_amount['small'])\n",
        "rule11 = ctrl.Rule(clothes['medium'] & wash_time['very_short'], soap_amount['medium'])"
      ],
      "metadata": {
        "id": "7QVdubl5SD6v"
      },
      "execution_count": null,
      "outputs": []
    },
    {
      "cell_type": "code",
      "source": [
        "wash_ctrl = ctrl.ControlSystem([rule1, rule2, rule3, rule4, rule5, rule6, rule7, rule8, rule9, rule10, rule11])\n",
        "washing_machine = ctrl.ControlSystemSimulation(wash_ctrl)"
      ],
      "metadata": {
        "id": "y0elPkoHSHHN"
      },
      "execution_count": null,
      "outputs": []
    },
    {
      "cell_type": "code",
      "source": [
        "washing_machine.input['dirt'] = 50  # Example value, you can change it\n",
        "washing_machine.input['softness'] = 30  # Example value, you can change it\n",
        "washing_machine.input['clothes'] = 20  # Example value, you can change it\n",
        "washing_machine.compute()"
      ],
      "metadata": {
        "id": "BPcqXMlCSKDc"
      },
      "execution_count": null,
      "outputs": []
    },
    {
      "cell_type": "code",
      "source": [
        "wash_time_output = washing_machine.output['wash_time']\n",
        "soap_amount_output = washing_machine.output['soap_amount']\n",
        "\n"
      ],
      "metadata": {
        "id": "JIy3N6zzSRdl"
      },
      "execution_count": null,
      "outputs": []
    },
    {
      "cell_type": "code",
      "source": [
        "print(\"wash time nedded is\",wash_time_output)\n",
        "print(\"amount of soup is\",soap_amount_output)"
      ],
      "metadata": {
        "colab": {
          "base_uri": "https://localhost:8080/"
        },
        "id": "tBs9iLraCKWO",
        "outputId": "e8352c1c-b012-4c28-f7f2-14ad61b575a5"
      },
      "execution_count": null,
      "outputs": [
        {
          "output_type": "stream",
          "name": "stdout",
          "text": [
            "wash time nedded is 19.999999999999996\n",
            "amount of soup is 8.333333333333334\n"
          ]
        }
      ]
    }
  ]
}